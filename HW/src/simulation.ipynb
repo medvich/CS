{
 "cells": [
  {
   "cell_type": "code",
   "execution_count": null,
   "id": "dbaeb1d7",
   "metadata": {},
   "outputs": [],
   "source": [
    "from engine import Solver\n",
    "import matplotlib.pyplot as plt\n",
    "# from matplotlib import cm"
   ]
  },
  {
   "cell_type": "code",
   "execution_count": null,
   "id": "80d9d3aa",
   "metadata": {},
   "outputs": [],
   "source": [
    "# cm.Greys(cnorm)\n",
    "cmap = plt.get_cmap('Blues', 20)\n",
    "cmap"
   ]
  },
  {
   "cell_type": "code",
   "execution_count": null,
   "id": "a219b2d9",
   "metadata": {
    "scrolled": true
   },
   "outputs": [],
   "source": [
    "s = Solver()\n",
    "s.solve(steps=70_000, n_pics=350, cmap=cmap)"
   ]
  },
  {
   "cell_type": "code",
   "execution_count": null,
   "id": "7c44234f",
   "metadata": {},
   "outputs": [],
   "source": [
    "s.makeGIF(remove_images=True)"
   ]
  },
  {
   "cell_type": "code",
   "execution_count": null,
   "id": "61d27753",
   "metadata": {},
   "outputs": [],
   "source": []
  }
 ],
 "metadata": {
  "kernelspec": {
   "display_name": "Python 3 (ipykernel)",
   "language": "python",
   "name": "python3"
  },
  "language_info": {
   "codemirror_mode": {
    "name": "ipython",
    "version": 3
   },
   "file_extension": ".py",
   "mimetype": "text/x-python",
   "name": "python",
   "nbconvert_exporter": "python",
   "pygments_lexer": "ipython3",
   "version": "3.9.12"
  }
 },
 "nbformat": 4,
 "nbformat_minor": 5
}
